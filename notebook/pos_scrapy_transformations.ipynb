{
 "cells": [
  {
   "cell_type": "code",
   "execution_count": 1,
   "metadata": {},
   "outputs": [
    {
     "name": "stdout",
     "output_type": "stream",
     "text": [
      "Populating the interactive namespace from numpy and matplotlib\n"
     ]
    }
   ],
   "source": [
    "import pandas as pd\n",
    "import geopandas as gpd\n",
    "pd.options.display.max_columns = 999\n",
    "\n",
    "#import plotly\n",
    "#import plotly.graph_objs as go\n",
    "#import plotly.offline as offline\n",
    "#offline.init_notebook_mode(connected=True)\n",
    "\n",
    "from mpl_toolkits.axes_grid1 import make_axes_locatable\n",
    "%pylab inline\n",
    "pylab.rcParams['figure.figsize'] = (12, 12)\n",
    "\n",
    "# For changes in .py\n",
    "%reload_ext autoreload\n",
    "%autoreload 2\n",
    "\n",
    "import numpy as np\n",
    "\n",
    "import missingno as msno\n",
    "\n",
    "stats = ['skew', 'mad', 'kurt']\n",
    "\n",
    "\n",
    "import qgrid\n",
    "\n",
    "def qg(df):\n",
    "    return(qgrid.show_grid(df,show_toolbar=True, grid_options={'forceFitColumns': False}))\n",
    "\n",
    "import itertools\n",
    "pd.set_option('display.max_rows', 500)\n",
    "pd.set_option('display.max_columns', 500)\n",
    "pd.set_option('display.width', -1)\n",
    "pd.set_option('display.max_colwidth', 100)\n",
    "\n",
    "import requests\n",
    "import json\n",
    "import xmltodict\n",
    "import re\n",
    "import urllib.request as urllib2\n",
    "import io\n",
    "import yaml\n",
    "\n",
    "import math\n",
    "import pysal as ps\n",
    "\n",
    "from pysal.esda.mapclassify import Quantiles, Equal_Interval, Fisher_Jenks\n",
    "\n",
    "\n",
    "import warnings\n",
    "warnings.filterwarnings('ignore')"
   ]
  },
  {
   "cell_type": "markdown",
   "metadata": {},
   "source": [
    "### Ocorrencias"
   ]
  },
  {
   "cell_type": "code",
   "execution_count": 2,
   "metadata": {},
   "outputs": [],
   "source": [
    "df_ocorr = pd.read_csv('../scrapy/seguranca_ssp/spiders/ssp_ocorrecencias_registradas.csv')\n",
    "\n",
    "# mask = df_ocorr['1']!='municipio'\n",
    "# df_ocorr[mask].shape"
   ]
  },
  {
   "cell_type": "code",
   "execution_count": 4,
   "metadata": {},
   "outputs": [],
   "source": [
    "mask = df_ocorr.isnull().mean()==1\n",
    "\n",
    "drop_columns = df_ocorr.isnull().mean()[mask].index.tolist()\n",
    "\n",
    "df_ocorr = df_ocorr.drop(columns=drop_columns)"
   ]
  },
  {
   "cell_type": "code",
   "execution_count": 5,
   "metadata": {},
   "outputs": [],
   "source": [
    "mask = (df_ocorr['26'].notnull()) & (df_ocorr['27'].isnull()) & (df_ocorr['28'].isnull()) & (df_ocorr['29'].isnull())\n",
    "g1 = df_ocorr[mask]\n",
    "\n",
    "mask = (df_ocorr['27'].notnull()) & (df_ocorr['28'].isnull()) & (df_ocorr['29'].isnull())\n",
    "g2 = df_ocorr[mask]\n",
    "\n",
    "mask = (df_ocorr['29'].notnull())\n",
    "g3 = df_ocorr[mask]\n",
    "\n",
    "g4 = df_ocorr.drop(index=g1.index)\n",
    "g4 = g4.drop(index=g2.index)\n",
    "g4 = g4.drop(index=g3.index)"
   ]
  },
  {
   "cell_type": "code",
   "execution_count": 6,
   "metadata": {},
   "outputs": [],
   "source": [
    "drop_cols = ['27','28','29']\n",
    "g1 = g1.drop(columns=drop_cols).reset_index(drop=True)\n",
    "g1.columns = g1.loc[0].tolist()\n",
    "mask = g1['municipio']!='municipio'\n",
    "g1 = g1[mask]\n",
    "\n",
    "\n",
    "drop_cols = ['28','29']\n",
    "g2 = g2.drop(columns=drop_cols).reset_index(drop=True)\n",
    "g2.columns = g2.loc[0].tolist()\n",
    "mask = g2['municipio']!='municipio'\n",
    "g2 = g2[mask]\n",
    "\n",
    "g3 = g3.reset_index(drop=True)\n",
    "g3.columns = g3.loc[0].tolist()\n",
    "mask = g3['municipio']!='municipio'\n",
    "g3 = g3[mask]\n",
    "\n",
    "\n",
    "drop_cols = ['26','27','28','29']\n",
    "g4 = g4.drop(columns=drop_cols).reset_index(drop=True)\n",
    "g4.columns = g4.loc[0].tolist()\n",
    "mask = g4['municipio']!='municipio'\n",
    "g4 = g4[mask]\n"
   ]
  },
  {
   "cell_type": "code",
   "execution_count": 7,
   "metadata": {},
   "outputs": [],
   "source": [
    "coll_order = g3.columns.tolist()\n",
    "df = pd.concat([g3,g2,g1,g4], axis=0, sort=False)\n",
    "\n",
    "df = df[coll_order]"
   ]
  },
  {
   "cell_type": "code",
   "execution_count": 8,
   "metadata": {},
   "outputs": [],
   "source": [
    "numeric_columns = ['ano',\n",
    "       'HOMICÍDIO DOLOSO (2)', 'Nº DE VÍTIMAS EM HOMICÍDIO DOLOSO (3)',\n",
    "       'HOMICÍDIO DOLOSO POR ACIDENTE DE TRÂNSITO',\n",
    "       'Nº DE VÍTIMAS EM HOMICÍDIO DOLOSO POR ACIDENTE DE TRÂNSITO',\n",
    "       'HOMICÍDIO CULPOSO POR ACIDENTE DE TRÂNSITO',\n",
    "       'HOMICÍDIO CULPOSO OUTROS', 'TENTATIVA DE HOMICÍDIO',\n",
    "       'LESÃO CORPORAL SEGUIDA DE MORTE', 'LESÃO CORPORAL DOLOSA',\n",
    "       'LESÃO CORPORAL CULPOSA POR ACIDENTE DE TRÂNSITO',\n",
    "       'LESÃO CORPORAL CULPOSA - OUTRAS', 'LATROCÍNIO',\n",
    "       'Nº DE VÍTIMAS EM LATROCÍNIO', 'TOTAL DE ESTUPRO (4)', 'ESTUPRO',\n",
    "       'ESTUPRO DE VULNERÁVEL', 'TOTAL DE ROUBO - OUTROS (1)',\n",
    "       'ROUBO - OUTROS', 'ROUBO DE VEÍCULO', 'ROUBO A BANCO', 'ROUBO DE CARGA',\n",
    "       'FURTO - OUTROS', 'FURTO DE VEÍCULO']\n",
    "\n",
    "for col in numeric_columns:\n",
    "    df[col] = pd.to_numeric(df[col], errors='coerce')"
   ]
  },
  {
   "cell_type": "code",
   "execution_count": 12,
   "metadata": {},
   "outputs": [],
   "source": [
    "# df.to_csv('../dados/ssp_ocorrecencias_registradas.csv', index=False, encoding='utf-8')"
   ]
  },
  {
   "cell_type": "code",
   "execution_count": null,
   "metadata": {},
   "outputs": [],
   "source": []
  },
  {
   "cell_type": "code",
   "execution_count": null,
   "metadata": {},
   "outputs": [],
   "source": []
  },
  {
   "cell_type": "markdown",
   "metadata": {},
   "source": [
    "### Atividades"
   ]
  },
  {
   "cell_type": "code",
   "execution_count": 13,
   "metadata": {},
   "outputs": [],
   "source": [
    "df_atividades = pd.read_csv('../scrapy/seguranca_ssp/spiders/ssp_atividade_policial.csv')"
   ]
  },
  {
   "cell_type": "code",
   "execution_count": 14,
   "metadata": {},
   "outputs": [],
   "source": [
    "mask = df_atividades.isnull().mean()==1\n",
    "\n",
    "drop_columns = df_atividades.isnull().mean()[mask].index.tolist()\n",
    "\n",
    "df_atividades = df_atividades.drop(columns=drop_columns)"
   ]
  },
  {
   "cell_type": "code",
   "execution_count": 15,
   "metadata": {},
   "outputs": [],
   "source": [
    "df_atividades.columns = df_atividades.loc[0].tolist()\n",
    "mask = df_atividades['municipio']!='municipio'\n",
    "df_atividades = df_atividades[mask]"
   ]
  },
  {
   "cell_type": "code",
   "execution_count": 16,
   "metadata": {},
   "outputs": [],
   "source": [
    "numeric_columns = [\n",
    "       'ano',\n",
    "       'OCORRÊNCIAS DE PORTE DE ENTORPECENTES',\n",
    "       'OCORRÊNCIAS DE TRÁFICO DE ENTORPECENTES',\n",
    "       'OCORRÊNCIAS DE APREENSÃO DE ENTORPECENTES(1)',\n",
    "       'OCORRÊNCIAS DE PORTE ILEGAL DE ARMA',\n",
    "       'Nº DE ARMAS DE FOGO APREENDIDAS',\n",
    "       'Nº DE FLAGRANTES LAVRADOS',\n",
    "       'Nº DE INFRATORES APREENDIDOS EM FLAGRANTE',\n",
    "       'Nº DE INFRATORES APREENDIDOS POR MANDADO',\n",
    "       'Nº DE PESSOAS PRESAS EM FLAGRANTE',\n",
    "       'Nº DE PESSOAS PRESAS POR MANDADO',\n",
    "       'Nº DE PRISÕES EFETUADAS',\n",
    "       'Nº DE VEÍCULOS RECUPERADOS',\n",
    "       'TOT. DE INQUÉRITOS POLICIAIS INSTAURADOS'\n",
    "]\n",
    "\n",
    "for col in numeric_columns:\n",
    "    df_atividades[col] = pd.to_numeric(df_atividades[col], errors='coerce')"
   ]
  },
  {
   "cell_type": "code",
   "execution_count": 19,
   "metadata": {},
   "outputs": [],
   "source": [
    "# df.to_csv('../dados/ssp_atividade_policial.csv', index=False, encoding='utf-8')"
   ]
  },
  {
   "cell_type": "code",
   "execution_count": null,
   "metadata": {},
   "outputs": [],
   "source": []
  },
  {
   "cell_type": "code",
   "execution_count": null,
   "metadata": {},
   "outputs": [],
   "source": []
  },
  {
   "cell_type": "code",
   "execution_count": null,
   "metadata": {},
   "outputs": [],
   "source": []
  },
  {
   "cell_type": "code",
   "execution_count": null,
   "metadata": {},
   "outputs": [],
   "source": []
  },
  {
   "cell_type": "code",
   "execution_count": null,
   "metadata": {},
   "outputs": [],
   "source": []
  },
  {
   "cell_type": "code",
   "execution_count": null,
   "metadata": {},
   "outputs": [],
   "source": []
  },
  {
   "cell_type": "code",
   "execution_count": null,
   "metadata": {},
   "outputs": [],
   "source": []
  },
  {
   "cell_type": "code",
   "execution_count": null,
   "metadata": {},
   "outputs": [],
   "source": []
  },
  {
   "cell_type": "code",
   "execution_count": null,
   "metadata": {},
   "outputs": [],
   "source": []
  },
  {
   "cell_type": "code",
   "execution_count": null,
   "metadata": {},
   "outputs": [],
   "source": []
  },
  {
   "cell_type": "code",
   "execution_count": null,
   "metadata": {},
   "outputs": [],
   "source": []
  },
  {
   "cell_type": "code",
   "execution_count": null,
   "metadata": {},
   "outputs": [],
   "source": []
  },
  {
   "cell_type": "code",
   "execution_count": null,
   "metadata": {},
   "outputs": [],
   "source": []
  },
  {
   "cell_type": "code",
   "execution_count": null,
   "metadata": {},
   "outputs": [],
   "source": []
  },
  {
   "cell_type": "code",
   "execution_count": null,
   "metadata": {},
   "outputs": [],
   "source": []
  },
  {
   "cell_type": "code",
   "execution_count": null,
   "metadata": {},
   "outputs": [],
   "source": []
  },
  {
   "cell_type": "code",
   "execution_count": null,
   "metadata": {},
   "outputs": [],
   "source": []
  },
  {
   "cell_type": "code",
   "execution_count": null,
   "metadata": {},
   "outputs": [],
   "source": []
  },
  {
   "cell_type": "code",
   "execution_count": null,
   "metadata": {},
   "outputs": [],
   "source": []
  }
 ],
 "metadata": {
  "kernelspec": {
   "display_name": "Python 3",
   "language": "python",
   "name": "python3"
  },
  "language_info": {
   "codemirror_mode": {
    "name": "ipython",
    "version": 3
   },
   "file_extension": ".py",
   "mimetype": "text/x-python",
   "name": "python",
   "nbconvert_exporter": "python",
   "pygments_lexer": "ipython3",
   "version": "3.7.4"
  }
 },
 "nbformat": 4,
 "nbformat_minor": 4
}
