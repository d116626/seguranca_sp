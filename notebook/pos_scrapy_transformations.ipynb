{
 "cells": [
  {
   "cell_type": "code",
   "execution_count": 361,
   "metadata": {},
   "outputs": [],
   "source": [
    "import pandas as pd\n",
    "import numpy as np\n",
    "\n",
    "pd.set_option('display.max_columns', None)\n",
    "pd.set_option(\"display.max_rows\", None)\n"
   ]
  },
  {
   "cell_type": "code",
   "execution_count": 138,
   "metadata": {},
   "outputs": [],
   "source": [
    "df_atividade = pd.read_csv('../dados/ssp_atividade_policial.csv')\n"
   ]
  },
  {
   "cell_type": "code",
   "execution_count": 331,
   "metadata": {},
   "outputs": [],
   "source": [
    "df_ocorr = pd.read_csv('../dados/ssp_ocorrecencias_registradas.csv')\n",
    "\n",
    "# mask = df_ocorr['1']!='municipio'\n",
    "# df_ocorr[mask].shape"
   ]
  },
  {
   "cell_type": "code",
   "execution_count": 321,
   "metadata": {},
   "outputs": [],
   "source": [
    "mask = (df_ocorr['26'].notnull()) & (df_ocorr['27'].isnull()) & (df_ocorr['28'].isnull()) & (df_ocorr['29'].isnull()) & (df_ocorr['30'].isnull())\n",
    "g1 = df_ocorr[mask]\n",
    "\n",
    "mask = (df_ocorr['27'].notnull()) & (df_ocorr['28'].isnull()) & (df_ocorr['29'].isnull()) & (df_ocorr['30'].isnull())\n",
    "g2 = df_ocorr[mask]\n",
    "\n",
    "mask = (df_ocorr['29'].notnull()) & (df_ocorr['30'].isnull())\n",
    "g3 = df_ocorr[mask]\n",
    "\n",
    "g4 = df_ocorr.drop(index=g1.index)\n",
    "g4 = g4.drop(index=g2.index)\n",
    "g4 = g4.drop(index=g3.index)"
   ]
  },
  {
   "cell_type": "code",
   "execution_count": 322,
   "metadata": {},
   "outputs": [],
   "source": [
    "drop_cols = ['27','28','29','30']\n",
    "g1 = g1.drop(columns=drop_cols).reset_index(drop=True)\n",
    "g1.columns = g1.loc[0].tolist()\n",
    "mask = g1['municipio']!='municipio'\n",
    "g1 = g1[mask]\n",
    "\n",
    "\n",
    "drop_cols = ['28','29','30']\n",
    "g2 = g2.drop(columns=drop_cols).reset_index(drop=True)\n",
    "g2.columns = g2.loc[0].tolist()\n",
    "mask = g2['municipio']!='municipio'\n",
    "g2 = g2[mask]\n",
    "\n",
    "\n",
    "drop_cols = ['30']\n",
    "g3 = g3.drop(columns=drop_cols).reset_index(drop=True)\n",
    "g3.columns = g3.loc[0].tolist()\n",
    "mask = g3['municipio']!='municipio'\n",
    "g3 = g3[mask]\n",
    "\n",
    "\n",
    "drop_cols = ['26','27','28','29','30']\n",
    "g4 = g4.drop(columns=drop_cols).reset_index(drop=True)\n",
    "g4.columns = g4.loc[0].tolist()\n",
    "mask = g4['municipio']!='municipio'\n",
    "g4 = g4[mask]\n"
   ]
  },
  {
   "cell_type": "code",
   "execution_count": 326,
   "metadata": {},
   "outputs": [],
   "source": [
    "coll_order = g3.columns.tolist()\n",
    "df = pd.concat([g3,g2,g1,g4], axis=0, sort=False)\n",
    "\n",
    "df = df[coll_order]"
   ]
  },
  {
   "cell_type": "code",
   "execution_count": 338,
   "metadata": {},
   "outputs": [],
   "source": [
    "numeric_columns = ['ano',\n",
    "       'HOMICÍDIO DOLOSO (2)', 'Nº DE VÍTIMAS EM HOMICÍDIO DOLOSO (3)',\n",
    "       'HOMICÍDIO DOLOSO POR ACIDENTE DE TRÂNSITO',\n",
    "       'Nº DE VÍTIMAS EM HOMICÍDIO DOLOSO POR ACIDENTE DE TRÂNSITO',\n",
    "       'HOMICÍDIO CULPOSO POR ACIDENTE DE TRÂNSITO',\n",
    "       'HOMICÍDIO CULPOSO OUTROS', 'TENTATIVA DE HOMICÍDIO',\n",
    "       'LESÃO CORPORAL SEGUIDA DE MORTE', 'LESÃO CORPORAL DOLOSA',\n",
    "       'LESÃO CORPORAL CULPOSA POR ACIDENTE DE TRÂNSITO',\n",
    "       'LESÃO CORPORAL CULPOSA - OUTRAS', 'LATROCÍNIO',\n",
    "       'Nº DE VÍTIMAS EM LATROCÍNIO', 'TOTAL DE ESTUPRO (4)', 'ESTUPRO',\n",
    "       'ESTUPRO DE VULNERÁVEL', 'TOTAL DE ROUBO - OUTROS (1)',\n",
    "       'ROUBO - OUTROS', 'ROUBO DE VEÍCULO', 'ROUBO A BANCO', 'ROUBO DE CARGA',\n",
    "       'FURTO - OUTROS', 'FURTO DE VEÍCULO']\n",
    "\n",
    "for col in numeric_columns:\n",
    "    df[col] = pd.to_numeric(df[col], errors='coerce')"
   ]
  },
  {
   "cell_type": "code",
   "execution_count": 363,
   "metadata": {},
   "outputs": [],
   "source": [
    "# df.to_csv('../dados/ssp_ocorrecencias_registradas.csv', index=False, encoding='utf-8')"
   ]
  },
  {
   "cell_type": "code",
   "execution_count": null,
   "metadata": {},
   "outputs": [],
   "source": []
  },
  {
   "cell_type": "code",
   "execution_count": null,
   "metadata": {},
   "outputs": [],
   "source": []
  },
  {
   "cell_type": "code",
   "execution_count": null,
   "metadata": {},
   "outputs": [],
   "source": []
  },
  {
   "cell_type": "code",
   "execution_count": null,
   "metadata": {},
   "outputs": [],
   "source": []
  }
 ],
 "metadata": {
  "kernelspec": {
   "display_name": "Python 3",
   "language": "python",
   "name": "python3"
  },
  "language_info": {
   "codemirror_mode": {
    "name": "ipython",
    "version": 3
   },
   "file_extension": ".py",
   "mimetype": "text/x-python",
   "name": "python",
   "nbconvert_exporter": "python",
   "pygments_lexer": "ipython3",
   "version": "3.7.4"
  }
 },
 "nbformat": 4,
 "nbformat_minor": 4
}
